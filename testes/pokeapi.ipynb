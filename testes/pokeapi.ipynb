{
 "cells": [
  {
   "cell_type": "code",
   "execution_count": 5,
   "metadata": {},
   "outputs": [],
   "source": [
    "import requests\n",
    "import pandas as pd"
   ]
  },
  {
   "cell_type": "code",
   "execution_count": 7,
   "metadata": {},
   "outputs": [],
   "source": [
    "url = 'https://pokeapi.co/api/v2/pokemon'\n",
    "response = requests.get(url)"
   ]
  },
  {
   "cell_type": "code",
   "execution_count": 8,
   "metadata": {},
   "outputs": [
    {
     "name": "stdout",
     "output_type": "stream",
     "text": [
      "         name                                   url  Base_Experience\n",
      "0   bulbasaur  https://pokeapi.co/api/v2/pokemon/1/               64\n",
      "1     ivysaur  https://pokeapi.co/api/v2/pokemon/2/              142\n",
      "2    venusaur  https://pokeapi.co/api/v2/pokemon/3/              263\n",
      "3  charmander  https://pokeapi.co/api/v2/pokemon/4/               62\n",
      "4  charmeleon  https://pokeapi.co/api/v2/pokemon/5/              142\n"
     ]
    }
   ],
   "source": [
    "\n",
    "# Função para obter dados adicionais de uma URL específica\n",
    "def get_base_experience(url):\n",
    "    response = requests.get(url)\n",
    "    if response.status_code == 200:\n",
    "        return response.json().get('base_experience')\n",
    "    else:\n",
    "        print(f\"Erro na chamada à API. Código de status: {response.status_code}\")\n",
    "        return None\n",
    "\n",
    "# Fazendo a chamada à API para obter a lista de pokemons\n",
    "url = 'https://pokeapi.co/api/v2/pokemon'\n",
    "response = requests.get(url)\n",
    "\n",
    "if response.status_code == 200:\n",
    "    data = response.json()\n",
    "    results = data['results']\n",
    "\n",
    "    # Criando DataFrame com os dados iniciais\n",
    "    df = pd.DataFrame(results)\n",
    "\n",
    "    # Obtendo base_experience para cada pokemon\n",
    "    df['Base_Experience'] = df['url'].apply(get_base_experience)\n",
    "\n",
    "    # Exibindo o DataFrame final\n",
    "    print(df.head())\n",
    "\n",
    "else:\n",
    "    print(f\"Erro na chamada à API. Código de status: {response.status_code}\")"
   ]
  },
  {
   "cell_type": "code",
   "execution_count": null,
   "metadata": {},
   "outputs": [],
   "source": [
    "def get_attribute_ability(url):\n",
    "    response = requests.get(url).json()\n",
    "    list_ability = response.get('abilities')\n",
    "    \n",
    "    df_abilities = pd.DataFrame()\n",
    "    for ability in list_ability:\n",
    "        df_abilities = pd.concat(\n",
    "            (df_abilities,\n",
    "             pd.DataFrame({'id': [response['order']],\n",
    "                           'ability': [ability['ability']['name']],\n",
    "                           })\n",
    "            )\n",
    "            ).reset_index(drop=True)\n",
    "    \n",
    "    return df_abilities"
   ]
  }
 ],
 "metadata": {
  "kernelspec": {
   "display_name": "Python 3",
   "language": "python",
   "name": "python3"
  },
  "language_info": {
   "codemirror_mode": {
    "name": "ipython",
    "version": 3
   },
   "file_extension": ".py",
   "mimetype": "text/x-python",
   "name": "python",
   "nbconvert_exporter": "python",
   "pygments_lexer": "ipython3",
   "version": "3.12.0"
  }
 },
 "nbformat": 4,
 "nbformat_minor": 2
}
