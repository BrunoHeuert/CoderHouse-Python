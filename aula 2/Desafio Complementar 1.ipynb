{
 "cells": [
  {
   "cell_type": "markdown",
   "metadata": {},
   "source": [
    "DESAFIO COMPLEMENTAR - BRUNO FELIPE"
   ]
  },
  {
   "cell_type": "markdown",
   "metadata": {},
   "source": [
    "Desafio 1:"
   ]
  },
  {
   "cell_type": "code",
   "execution_count": 5,
   "metadata": {},
   "outputs": [
    {
     "name": "stdout",
     "output_type": "stream",
     "text": [
      "Calculadora IMC!\n",
      "O calculo do seu IMC é de 25.5kg/m²\n"
     ]
    }
   ],
   "source": [
    "print('Calculadora IMC!')\n",
    "peso = float(input('Qual o seu Peso? '))\n",
    "altura = float(input('Qual a sua altura em metros? '))\n",
    "imc = peso / (altura * altura)\n",
    "print('O calculo do seu IMC é de {:.1f}kg/m²'.format(imc))\n"
   ]
  },
  {
   "cell_type": "markdown",
   "metadata": {},
   "source": [
    "Desafio 2:"
   ]
  },
  {
   "cell_type": "code",
   "execution_count": 14,
   "metadata": {},
   "outputs": [
    {
     "name": "stdout",
     "output_type": "stream",
     "text": [
      "O valor da lista é: [1, 2, 3, 4, 5]\n"
     ]
    }
   ],
   "source": [
    "lista = []\n",
    "n0 = int(input('Digite o primeiro número: '))\n",
    "n1 = int(input('Digite o segundo número: '))\n",
    "n2 = int(input('Digite o terceiro número: '))\n",
    "n3 = int(input('Digite o quarto número: '))\n",
    "n4 = int(input('Digite o quinto número: '))\n",
    "lista = [n0] + [n1] + [n2] + [n3] + [n4]\n",
    "print('O valor da lista é: {}'.format(lista))"
   ]
  },
  {
   "cell_type": "markdown",
   "metadata": {},
   "source": [
    "Desafio 3:"
   ]
  },
  {
   "cell_type": "code",
   "execution_count": 22,
   "metadata": {},
   "outputs": [
    {
     "name": "stdout",
     "output_type": "stream",
     "text": [
      "Lista de nomes separada: ['leo', 'alcir']\n"
     ]
    }
   ],
   "source": [
    "nomes = str(input('Digite uma lista de nomes separando com \",\": '))\n",
    "print('Lista de nomes separada: {}'.format(nomes.split(',')))"
   ]
  }
 ],
 "metadata": {
  "kernelspec": {
   "display_name": "Python 3",
   "language": "python",
   "name": "python3"
  },
  "language_info": {
   "codemirror_mode": {
    "name": "ipython",
    "version": 3
   },
   "file_extension": ".py",
   "mimetype": "text/x-python",
   "name": "python",
   "nbconvert_exporter": "python",
   "pygments_lexer": "ipython3",
   "version": "3.12.0"
  }
 },
 "nbformat": 4,
 "nbformat_minor": 2
}
