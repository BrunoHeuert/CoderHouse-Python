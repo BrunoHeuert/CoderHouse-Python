{
 "cells": [
  {
   "cell_type": "code",
   "execution_count": 23,
   "metadata": {},
   "outputs": [
    {
     "data": {
      "text/plain": [
       "[1, 2, 3, 4, 5]"
      ]
     },
     "execution_count": 23,
     "metadata": {},
     "output_type": "execute_result"
    }
   ],
   "source": [
    "#propriedade de lista\n",
    "#multinivel:\n",
    "minha_lista2 = [5, 6, [7, 8]]\n",
    "minha_lista2\n",
    "\n",
    "#append adiciona um item na lista\n",
    "minha_lista2.append('nove')\n",
    "\n",
    "#concatenação\n",
    "lista_completa = minha_lista2 + [1,2]\n",
    "lista_completa\n",
    "\n",
    "#ordenação\n",
    "lista_ordernar = [5, 4, 3, 2, 1]\n",
    "lista_ordernar.sort()\n",
    "lista_ordernar\n"
   ]
  },
  {
   "cell_type": "code",
   "execution_count": 28,
   "metadata": {},
   "outputs": [
    {
     "data": {
      "text/plain": [
       "'Bruno'"
      ]
     },
     "execution_count": 28,
     "metadata": {},
     "output_type": "execute_result"
    }
   ],
   "source": [
    "#dict dicionário\n",
    "meu_dict = {'chave1': 'primeiro', 'chave2': 'segundo'}\n",
    "meu_dict\n",
    "bruno = {'nome':'Bruno', 'idade':'21', 'altura':'1.91'}\n",
    "bruno['nome']"
   ]
  },
  {
   "cell_type": "code",
   "execution_count": 29,
   "metadata": {},
   "outputs": [
    {
     "data": {
      "text/plain": [
       "(1, 'dois', 3.0)"
      ]
     },
     "execution_count": 29,
     "metadata": {},
     "output_type": "execute_result"
    }
   ],
   "source": [
    "#tupla\n",
    "minha_tupla = (1, 'dois', 3.0)\n",
    "minha_tupla"
   ]
  },
  {
   "cell_type": "code",
   "execution_count": 30,
   "metadata": {},
   "outputs": [
    {
     "data": {
      "text/plain": [
       "{1, 2, 3, 4, 5}"
      ]
     },
     "execution_count": 30,
     "metadata": {},
     "output_type": "execute_result"
    }
   ],
   "source": [
    "meu_set = {1, 2, 2, 3, 4, 5, 2}\n",
    "meu_set\n",
    "\n",
    "#transformar set em lista\n",
    "agora_lista = list(meu_set)\n",
    "#transformar set em tupla\n",
    "agora_tupla = list(meu_set)"
   ]
  }
 ],
 "metadata": {
  "kernelspec": {
   "display_name": "Python 3",
   "language": "python",
   "name": "python3"
  },
  "language_info": {
   "codemirror_mode": {
    "name": "ipython",
    "version": 3
   },
   "file_extension": ".py",
   "mimetype": "text/x-python",
   "name": "python",
   "nbconvert_exporter": "python",
   "pygments_lexer": "ipython3",
   "version": "3.12.0"
  }
 },
 "nbformat": 4,
 "nbformat_minor": 2
}
