{
 "cells": [
  {
   "cell_type": "markdown",
   "metadata": {},
   "source": [
    "1) Crie um array NumPy com 10 elementos inteiros aleatórios no intervalo [0, 100] e exiba os valores e o tipo de dado do array."
   ]
  },
  {
   "cell_type": "code",
   "execution_count": 41,
   "metadata": {},
   "outputs": [
    {
     "name": "stdout",
     "output_type": "stream",
     "text": [
      "[93 37 87  7 58 27 34 32  6 47]\n",
      "int32\n"
     ]
    }
   ],
   "source": [
    "import numpy as np\n",
    "elemento = np.random.randint(0, 100, size=10)\n",
    "#sorteia 10 vezes um numero entre 0 e 100\n",
    "print(elemento)\n",
    "print(elemento.dtype)\n",
    "#mostra o tipo de dado"
   ]
  },
  {
   "cell_type": "markdown",
   "metadata": {},
   "source": [
    "2) Crie uma matriz 5x5 com valores aletaorios de [0,1) e encontre o valor minimo, maximo e a média da matriz."
   ]
  },
  {
   "cell_type": "code",
   "execution_count": 58,
   "metadata": {},
   "outputs": [
    {
     "name": "stdout",
     "output_type": "stream",
     "text": [
      "[[0.098498   0.87082731 0.15222718 0.98434811 0.81868051]\n",
      " [0.80254365 0.63502159 0.42991049 0.51922614 0.09833723]\n",
      " [0.19611498 0.50566055 0.13782178 0.70730298 0.76823109]\n",
      " [0.34089693 0.42877406 0.57610677 0.29952976 0.7988341 ]\n",
      " [0.7670926  0.17597486 0.18783164 0.62834377 0.93968844]]\n",
      "Minimo: 0.09833723125022675\n",
      "Máximo: 0.9843481098211293\n",
      "Média: 0.5147129805603765\n"
     ]
    }
   ],
   "source": [
    "import numpy as np\n",
    "#sorteia valores randomicos entre 0 e 1 numa matriz 5x5\n",
    "matriz = np.random.rand(5, 5)\n",
    "print(matriz)\n",
    "print(f'Minimo: {np.min(matriz)}')\n",
    "print(f'Máximo: {np.max(matriz)}')\n",
    "print(f'Média: {np.average(matriz)}')"
   ]
  },
  {
   "cell_type": "markdown",
   "metadata": {},
   "source": [
    "3) Crie um array com 10 elementos aleatórios no intervalo [0,1]. Em seguida, crie um novo array com os elementos do primeiro array multiplicados por 10 e convertidos para inteiro."
   ]
  },
  {
   "cell_type": "code",
   "execution_count": 71,
   "metadata": {},
   "outputs": [
    {
     "name": "stdout",
     "output_type": "stream",
     "text": [
      "[0.26116223 0.36826521 0.98772037 0.12322495 0.02217971 0.8391685\n",
      " 0.16478365 0.60873593 0.50728172 0.30715065]\n",
      "[2 3 9 1 0 8 1 6 5 3]\n"
     ]
    }
   ],
   "source": [
    "import numpy as np\n",
    "#sorteia 10 numeros randons entre 0 e 1\n",
    "elemento1 = np.random.rand(10)\n",
    "print(elemento1)\n",
    "#multiplicas os numeros gerados anteriormente por 10 e muda o tipo para int\n",
    "elemento2 = (elemento1 * 10).astype(int)\n",
    "print(elemento2)\n"
   ]
  },
  {
   "cell_type": "markdown",
   "metadata": {},
   "source": [
    "4) Crie um array de duas dimensões com shape (3, 3) e valores aleatórios inteiros no intervalo [0, 9]. Substitua todos os elementos da segunda linha por -1."
   ]
  },
  {
   "cell_type": "code",
   "execution_count": 79,
   "metadata": {},
   "outputs": [
    {
     "name": "stdout",
     "output_type": "stream",
     "text": [
      "[[ 5  4  9]\n",
      " [-1 -1 -1]\n",
      " [ 7  6  0]]\n"
     ]
    }
   ],
   "source": [
    "import numpy as np\n",
    "#gera uam matriz 3x3 de numeros inteiros randons\n",
    "elemento = np.random.randint(0, 10, (3, 3))\n",
    "#pega a partir da posição 1 e atualiza os valores pra -1\n",
    "elemento[1, :] = -1\n",
    "print(elemento)"
   ]
  },
  {
   "cell_type": "markdown",
   "metadata": {},
   "source": [
    "5) Crie um DataFrame com as seguintes informações:\n",
    "\n",
    "    COluna \"fruta\": \"Banana\", \"Maçã\", \"Pera\"\n",
    "\n",
    "    Coluna \"preco\": 7.90, 10.20, 11.80\n",
    "\n",
    "    Coluna \"quantidade\": 12, 3, 4"
   ]
  },
  {
   "cell_type": "code",
   "execution_count": 38,
   "metadata": {},
   "outputs": [
    {
     "name": "stdout",
     "output_type": "stream",
     "text": [
      "    fruta  preco  quantidade\n",
      "0  Banana    7.9          12\n",
      "1    Maçã   10.2           3\n",
      "2    Pera   11.8           4\n"
     ]
    }
   ],
   "source": [
    "import numpy as np\n",
    "import pandas as pd\n",
    "#só para exemplificar, não sera usado a valores1\n",
    "valores1 = np.array([['Banana', 'Maçã', 'Pera'], \n",
    "                    [7.90, 10.20, 11.80], \n",
    "                    [12, 3, 4]])\n",
    "#vAtual = pd.DataFrame(valores)\n",
    "#tranforma em linhas separado pelas colunas, igual uma tabela\n",
    "valores2 = pd.DataFrame([['Banana', 7.90, 12], \n",
    "                        ['Maçã', 10.20, 3], \n",
    "                        ['Pera', 11.80, 4]],\n",
    "                        columns= ['fruta', 'preco', 'quantidade'])\n",
    "print(valores2)\n"
   ]
  }
 ],
 "metadata": {
  "kernelspec": {
   "display_name": "Python 3",
   "language": "python",
   "name": "python3"
  },
  "language_info": {
   "codemirror_mode": {
    "name": "ipython",
    "version": 3
   },
   "file_extension": ".py",
   "mimetype": "text/x-python",
   "name": "python",
   "nbconvert_exporter": "python",
   "pygments_lexer": "ipython3",
   "version": "3.12.0"
  }
 },
 "nbformat": 4,
 "nbformat_minor": 2
}
