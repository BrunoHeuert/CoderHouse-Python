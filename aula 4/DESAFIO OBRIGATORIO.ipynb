{
 "cells": [
  {
   "cell_type": "markdown",
   "metadata": {},
   "source": [
    "DESAFIO OBRIGATÓRIO:\n",
    "\n",
    "Criando um alerta com notification.notify()\n",
    "\n",
    "EXEMPLO:"
   ]
  },
  {
   "cell_type": "code",
   "execution_count": 26,
   "metadata": {},
   "outputs": [],
   "source": [
    "from plyer import notification \n",
    "notification.notify(\n",
    "     title='Título da notificação',\n",
    "     message='Mensagem da notificação',\n",
    "     app_name='Nome do aplicativo',\n",
    "     timeout=10 )"
   ]
  },
  {
   "cell_type": "markdown",
   "metadata": {},
   "source": [
    "RESOLUÇÃO:"
   ]
  },
  {
   "cell_type": "code",
   "execution_count": 70,
   "metadata": {},
   "outputs": [],
   "source": [
    "#CRIA A FUNÇÃO\n",
    "from plyer import notification\n",
    "#IMPORTANDO A BILBIOTECA NOTIFICATION\n",
    "import datetime\n",
    "#IMPROTANDO A BIBLIOTECA DE DATAS\n",
    "def alerta(nivel = 0, base = 'CLIENTES', etapa = 'EXTRACAO'):\n",
    "    if nivel == 1:\n",
    "        nivel = 'Alerta Baixo'\n",
    "    elif nivel == 2:\n",
    "        nivel = 'Alerta Médio'\n",
    "    elif nivel == 3:\n",
    "        nivel = 'Alerta Alto'\n",
    "    else:\n",
    "        nivel = 'NÃO REGISTRADO'\n",
    "    #O IF ACIMA VAI APONTAR QUAL TIPO DE ALERTA SERÁ DISPARADO\n",
    "    notification.notify(\n",
    "        title= nivel,#TITULO DA NOTIFICAÇÃO\n",
    "        message=f'Falha no carregamento da base {base} na etapa {etapa}.\\n{datetime.datetime.today()}',#MENSAGEM A SER DISPARADA\n",
    "        app_name='Nome do aplicativo',\n",
    "        timeout=10 )\n"
   ]
  },
  {
   "cell_type": "code",
   "execution_count": 71,
   "metadata": {},
   "outputs": [],
   "source": [
    "#EXECUTA A FUNÇÃO\n",
    "alerta(1, 'CLIENTES', 'EXTRACAO')\n",
    "#O ALERTA ACIMA VAI GERAR A NOTIFICAÇÃO, O PRIMEIRO VALOR É REFERENTE AO NIVEL, O SEGUNDO A BASE E O TERCEIRO A ETAPA"
   ]
  }
 ],
 "metadata": {
  "kernelspec": {
   "display_name": "Python 3",
   "language": "python",
   "name": "python3"
  },
  "language_info": {
   "codemirror_mode": {
    "name": "ipython",
    "version": 3
   },
   "file_extension": ".py",
   "mimetype": "text/x-python",
   "name": "python",
   "nbconvert_exporter": "python",
   "pygments_lexer": "ipython3",
   "version": "3.12.0"
  }
 },
 "nbformat": 4,
 "nbformat_minor": 2
}
