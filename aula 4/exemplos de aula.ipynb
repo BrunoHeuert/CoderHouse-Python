{
 "cells": [
  {
   "cell_type": "markdown",
   "metadata": {},
   "source": [
    "FUNÇÕES!"
   ]
  },
  {
   "cell_type": "code",
   "execution_count": 1,
   "metadata": {},
   "outputs": [
    {
     "data": {
      "text/plain": [
       "20"
      ]
     },
     "execution_count": 1,
     "metadata": {},
     "output_type": "execute_result"
    }
   ],
   "source": [
    "def mul(a, b):\n",
    "    x = a * b\n",
    "    return x\n",
    "mul(4, 5)"
   ]
  },
  {
   "cell_type": "code",
   "execution_count": 6,
   "metadata": {},
   "outputs": [
    {
     "name": "stdout",
     "output_type": "stream",
     "text": [
      "Acesso no interior da função: Local\n",
      "Acesso no exterior da função: Global\n"
     ]
    }
   ],
   "source": [
    "acesso = 'Global'\n",
    "\n",
    "def mudarAcesso():\n",
    "  acesso = 'Local'\n",
    "  print('Acesso no interior da função:', acesso)\n",
    "\n",
    "mudarAcesso()\n",
    "print('Acesso no exterior da função:', acesso)"
   ]
  },
  {
   "cell_type": "code",
   "execution_count": 5,
   "metadata": {},
   "outputs": [
    {
     "name": "stdout",
     "output_type": "stream",
     "text": [
      "tchau\n"
     ]
    },
    {
     "data": {
      "text/plain": [
       "'oi'"
      ]
     },
     "execution_count": 5,
     "metadata": {},
     "output_type": "execute_result"
    }
   ],
   "source": [
    "#VARIÁVEL GLOBAL E VARIÁVEL LOCAL\n",
    "\n",
    "#VARIAVEL GLOBAL\n",
    "# É QUANDO DECLARA UMA VARIÁVEL FORA DA FUNÇÃO\n",
    "texto = 'oi'\n",
    "\n",
    "#VARIAVEL LOCAL\n",
    "#É QUANDO A VARIÁVEL ESTÁ DENTRO DE UMA FUNÇÃO\n",
    "def printa_texto(texto):\n",
    "    print(texto)\n",
    "printa_texto('tchau')\n",
    "texto"
   ]
  },
  {
   "cell_type": "code",
   "execution_count": 26,
   "metadata": {},
   "outputs": [
    {
     "name": "stdout",
     "output_type": "stream",
     "text": [
      "ola\n",
      "ola\n"
     ]
    }
   ],
   "source": [
    "def diga_ola():\n",
    "     print('ola')\n",
    "diga_ola()\n",
    "diga_ola()"
   ]
  },
  {
   "cell_type": "code",
   "execution_count": 55,
   "metadata": {},
   "outputs": [
    {
     "name": "stdout",
     "output_type": "stream",
     "text": [
      "Print A: 200\n",
      "Print B: 200\n",
      "Print C: 10\n",
      "Print D: 3\n",
      "print E: 200\n"
     ]
    }
   ],
   "source": [
    "x = 200\n",
    "print('Print A:', x)\n",
    "\n",
    "def mostraX(x):\n",
    "    print('Print C:', x)\n",
    "    x = 3\n",
    "    print('Print D:', x)\n",
    "print('Print B:', x)\n",
    "mostraX(10)#atribui o valor de x como 10 para o print C, pois ele está antes do x = 3, logo o print D receberá 3\n",
    "print('print E:', x)"
   ]
  },
  {
   "cell_type": "markdown",
   "metadata": {},
   "source": [
    "LAMBDA"
   ]
  },
  {
   "cell_type": "code",
   "execution_count": 57,
   "metadata": {},
   "outputs": [
    {
     "data": {
      "text/plain": [
       "16"
      ]
     },
     "execution_count": 57,
     "metadata": {},
     "output_type": "execute_result"
    }
   ],
   "source": [
    "quadrado = lambda x: x ** 2\n",
    "quadrado(4)"
   ]
  },
  {
   "cell_type": "code",
   "execution_count": 60,
   "metadata": {},
   "outputs": [
    {
     "data": {
      "text/plain": [
       "True"
      ]
     },
     "execution_count": 60,
     "metadata": {},
     "output_type": "execute_result"
    }
   ],
   "source": [
    "par = lambda x: (x % 2) == 0\n",
    "par(4)"
   ]
  },
  {
   "cell_type": "markdown",
   "metadata": {},
   "source": [
    "MAP"
   ]
  }
 ],
 "metadata": {
  "kernelspec": {
   "display_name": "Python 3",
   "language": "python",
   "name": "python3"
  },
  "language_info": {
   "codemirror_mode": {
    "name": "ipython",
    "version": 3
   },
   "file_extension": ".py",
   "mimetype": "text/x-python",
   "name": "python",
   "nbconvert_exporter": "python",
   "pygments_lexer": "ipython3",
   "version": "3.12.0"
  }
 },
 "nbformat": 4,
 "nbformat_minor": 2
}
