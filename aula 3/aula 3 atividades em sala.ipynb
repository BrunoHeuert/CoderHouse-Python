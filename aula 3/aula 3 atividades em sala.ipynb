{
 "cells": [
  {
   "cell_type": "markdown",
   "metadata": {},
   "source": [
    "DESAFIO 1\n",
    "\n",
    "ESCREVA UM PROGRAMA QUE RECEBA UM NÚMERO INTEIRO E EXIBA SE ELE É PAR OU ÍMPAR"
   ]
  },
  {
   "cell_type": "code",
   "execution_count": 3,
   "metadata": {},
   "outputs": [
    {
     "name": "stdout",
     "output_type": "stream",
     "text": [
      "O número 2 é PAR!\n",
      "Fim!\n"
     ]
    }
   ],
   "source": [
    "n = int(input('Digite um número: '))\n",
    "if n % 2 == 1:\n",
    "    print(f'O número {n} é ÍMPAR!')\n",
    "else:\n",
    "    print(f'O número {n} é PAR!')\n",
    "print('Fim!')"
   ]
  },
  {
   "cell_type": "markdown",
   "metadata": {},
   "source": [
    "DESAFIO 2\n",
    "\n",
    "ESCREVA UM PROGRAMA EM PYTHON QUE SOLICITA AO USUÁRIO UMA FRASE E, EM SEGUIDA, EXIBE CADA PALAVRA E SEU NÚMERO DE CARACTERES."
   ]
  },
  {
   "cell_type": "code",
   "execution_count": 21,
   "metadata": {},
   "outputs": [
    {
     "name": "stdout",
     "output_type": "stream",
     "text": [
      "A frase testando python xd tem ao todo 18 letras, sendo:\n",
      "A palavra testando tem 8 letras!\n",
      "A palavra python tem 6 letras!\n",
      "A palavra xd tem 2 letras!\n"
     ]
    },
    {
     "data": {
      "text/plain": [
       "\"frase = str(input('Digite uma frase: '))\\nlista = frase.split()\\ncont = 0\\nprint(f'A frase {frase} tem ao todo {len(frase)} letras, sendo:')\\nfor i in lista:\\n    print(f'A palavra {lista[0 + cont]} tem {len(lista[0 + cont])} letras!')\\n    cont = cont + 1\""
      ]
     },
     "execution_count": 21,
     "metadata": {},
     "output_type": "execute_result"
    }
   ],
   "source": [
    "#método 2\n",
    "frase = str(input('Digite uma frase: '))\n",
    "lista = frase.split()\n",
    "print(f'A frase {frase} tem ao todo {len(frase)} letras, sendo:')\n",
    "for i in lista:\n",
    "    print(f'A palavra {i} tem {len(i)} letras!')\n",
    "\n",
    "#método 1\n",
    "\"\"\"frase = str(input('Digite uma frase: '))\n",
    "lista = frase.split()\n",
    "cont = 0\n",
    "print(f'A frase {frase} tem ao todo {len(frase)} letras, sendo:')\n",
    "for i in lista:\n",
    "    print(f'A palavra {lista[0 + cont]} tem {len(lista[0 + cont])} letras!')\n",
    "    cont = cont + 1\"\"\""
   ]
  },
  {
   "cell_type": "markdown",
   "metadata": {},
   "source": [
    "DESAFIO 3\n",
    "\n",
    "Crie um programa em Python que solicita ao usuário uma senha numérica de 4 dígitos. O programa deve repetir essa solicitação até que o usuário informa senha correta (1234)"
   ]
  },
  {
   "cell_type": "code",
   "execution_count": 3,
   "metadata": {},
   "outputs": [
    {
     "name": "stdout",
     "output_type": "stream",
     "text": [
      "15155\n",
      "1234\n",
      "Bem-vindo!\n"
     ]
    }
   ],
   "source": [
    "senha = str(input('Digite a senha: '))\n",
    "print(senha)\n",
    "while senha != '1234':\n",
    "    tExtra = str(input('Tente novamente: '))\n",
    "    print(tExtra)\n",
    "    if tExtra == '1234':\n",
    "        break\n",
    "print('Bem-vindo!')"
   ]
  },
  {
   "cell_type": "markdown",
   "metadata": {},
   "source": [
    "DESAFIO 4\n",
    "\n",
    "ESCREVA UM PROGRAMA QUE DADO UM VALOR N CALCULA O FATORIAL DE N"
   ]
  },
  {
   "cell_type": "code",
   "execution_count": 5,
   "metadata": {},
   "outputs": [
    {
     "name": "stdout",
     "output_type": "stream",
     "text": [
      "24\n"
     ]
    }
   ],
   "source": [
    "num = int(input('Digite o número que desejas ver o Fatorial: '))\n",
    "fat = 1\n",
    "for c in range(fat, num + 1):\n",
    "    fat = fat * c\n",
    "print(fat)"
   ]
  },
  {
   "cell_type": "markdown",
   "metadata": {},
   "source": [
    "DESAFIO 5\n",
    "\n",
    "CRIE UM DICIONÁRIO COM OS DADOS DA TABELA AO LADO, CRIE UM LOOP PARA EXIBIR OS VALORES"
   ]
  },
  {
   "cell_type": "code",
   "execution_count": 9,
   "metadata": {},
   "outputs": [
    {
     "name": "stdout",
     "output_type": "stream",
     "text": [
      "Mês: Janeiro, valor: 232\n",
      "Mês: Fevereiro, valor: 321\n",
      "Mês: Junho, valor: 589\n",
      "Mês: Julho, valor: 547\n"
     ]
    }
   ],
   "source": [
    "tabela = {\"Janeiro\" : 232, \"Fevereiro\" : 321, \"Junho\" : 589, \"Julho\" : 547}\n",
    "for c in tabela.keys():\n",
    "    print(f'Mês: {c}, valor: {tabela[c]}')\n",
    "print('FIM')\n",
    "\n",
    "\"\"\"tabela = {\"Janeiro\" : 232, \"Fevereiro\" : 321, \"Junho\" : 589, \"Julho\" : 547}\n",
    "for k, v in tabela.items():\n",
    "    print(f'Mês: {k}, valor: {v}')\"\"\""
   ]
  }
 ],
 "metadata": {
  "kernelspec": {
   "display_name": "Python 3",
   "language": "python",
   "name": "python3"
  },
  "language_info": {
   "codemirror_mode": {
    "name": "ipython",
    "version": 3
   },
   "file_extension": ".py",
   "mimetype": "text/x-python",
   "name": "python",
   "nbconvert_exporter": "python",
   "pygments_lexer": "ipython3",
   "version": "3.12.0"
  }
 },
 "nbformat": 4,
 "nbformat_minor": 2
}
